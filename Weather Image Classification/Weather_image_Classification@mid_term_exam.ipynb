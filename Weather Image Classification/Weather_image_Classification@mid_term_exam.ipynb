{
 "cells": [
  {
   "cell_type": "markdown",
   "metadata": {},
   "source": [
    "<center style=\"font-family: consolas\">\n",
    "    <h1 style=\"line-height: 7px;\"> Sukkur IBA Unviersity</h1>\n",
    "    <h2 style=\"line-height:7px\"> Data Science</h2>\n",
    "    <h2 style=\"line-height:7px\"> Spring 2020 Mid I Exam</h2>\n",
    "    <h3 style=\"line-height:7px\"> BS(CS) - VIII</h3>\n",
    "</center>\n",
    "\n",
    "<font style=\"font-family: consolas\">\n",
    "Instructor: Saif Hassan<br>\n",
    "Student ID: 053-16-0028<br>\n",
    "Student Name: Parvez Ali<br>\n",
    "Date: 18<sup>th</sup> Feb, 2020<br>\n",
    "</font>"
   ]
  },
  {
   "cell_type": "markdown",
   "metadata": {},
   "source": [
    "# `Multi-class Weather Image Classification`\n",
    "\n",
    "### `You have been provided this .ipynb file and dataset having four classes (cloudy, rain, shine and sunrise)`\n",
    "### `All the images are labeled classwise, perform all the following tasks`"
   ]
  },
  {
   "cell_type": "code",
   "execution_count": 3,
   "metadata": {},
   "outputs": [
    {
     "name": "stderr",
     "output_type": "stream",
     "text": [
      "Using TensorFlow backend.\n"
     ]
    }
   ],
   "source": [
    "'''\n",
    "# 1- Import all possible required libraries here\n",
    "'''\n",
    "\n",
    "# Write your code here\n",
    "import os\n",
    "import shutil\n",
    "import matplotlib.pyplot as plt\n",
    "import numpy as np\n",
    "import random\n",
    "from scipy import ndarray\n",
    "\n",
    "# image processing library\n",
    "import skimage as sk\n",
    "from skimage import transform\n",
    "from skimage import util\n",
    "from skimage import io\n",
    "#libraries for model\n",
    "from keras import layers\n",
    "from keras import models\n",
    "from keras.preprocessing.image import ImageDataGenerator\n",
    "\n"
   ]
  },
  {
   "cell_type": "code",
   "execution_count": 14,
   "metadata": {},
   "outputs": [
    {
     "name": "stdout",
     "output_type": "stream",
     "text": [
      "Total instances in Dataset are:  1125\n",
      "['cloudy1.jpg', 'cloudy10.jpg', 'cloudy100.jpg', 'cloudy101.jpg', 'cloudy102.jpg', 'cloudy103.jpg', 'cloudy104.jpg', 'cloudy105.jpg', 'cloudy106.jpg', 'cloudy107.jpg', 'cloudy108.jpg', 'cloudy109.jpg', 'cloudy11.jpg', 'cloudy110.jpg', 'cloudy111.jpg', 'cloudy112.jpg', 'cloudy113.jpg', 'cloudy114.jpg', 'cloudy115.jpg', 'cloudy116.jpg', 'cloudy117.jpg', 'cloudy118.jpg', 'cloudy119.jpg', 'cloudy12.jpg', 'cloudy120.jpg', 'cloudy121.jpg', 'cloudy122.jpg', 'cloudy123.jpg', 'cloudy124.jpg', 'cloudy125.jpg', 'cloudy126.jpg', 'cloudy127.jpg', 'cloudy128.jpg', 'cloudy129.jpg', 'cloudy13.jpg', 'cloudy130.jpg', 'cloudy131.jpg', 'cloudy132.jpg', 'cloudy133.jpg', 'cloudy134.jpg', 'cloudy135.jpg', 'cloudy136.jpg', 'cloudy137.jpg', 'cloudy138.jpg', 'cloudy139.jpg', 'cloudy14.jpg', 'cloudy140.jpg', 'cloudy141.jpg', 'cloudy142.jpg', 'cloudy143.jpg', 'cloudy144.jpg', 'cloudy145.jpg', 'cloudy146.jpg', 'cloudy147.jpg', 'cloudy148.jpg', 'cloudy149.jpg', 'cloudy15.jpg', 'cloudy150.jpg', 'cloudy151.jpg', 'cloudy152.jpg', 'cloudy153.jpg', 'cloudy154.jpg', 'cloudy155.jpg', 'cloudy156.jpg', 'cloudy157.jpg', 'cloudy158.jpg', 'cloudy159.jpg', 'cloudy16.jpg', 'cloudy160.jpg', 'cloudy161.jpg', 'cloudy162.jpg', 'cloudy163.jpg', 'cloudy164.jpg', 'cloudy165.jpg', 'cloudy166.jpg', 'cloudy167.jpg', 'cloudy168.jpg', 'cloudy169.jpg', 'cloudy17.jpg', 'cloudy170.jpg', 'cloudy171.jpg', 'cloudy172.jpg', 'cloudy173.jpg', 'cloudy174.jpg', 'cloudy175.jpg', 'cloudy176.jpg', 'cloudy177.jpg', 'cloudy178.jpg', 'cloudy179.jpg', 'cloudy18.jpg', 'cloudy180.jpg', 'cloudy181.jpg', 'cloudy182.jpg', 'cloudy183.jpg', 'cloudy184.jpg', 'cloudy185.jpg', 'cloudy186.jpg', 'cloudy187.jpg', 'cloudy188.jpg', 'cloudy189.jpg', 'cloudy19.jpg', 'cloudy190.jpg', 'cloudy191.jpg', 'cloudy192.jpg', 'cloudy193.jpg', 'cloudy194.jpg', 'cloudy195.jpg', 'cloudy196.jpg', 'cloudy197.jpg', 'cloudy198.jpg', 'cloudy199.jpg', 'cloudy2.jpg', 'cloudy20.jpg', 'cloudy200.jpg', 'cloudy201.jpg', 'cloudy202.jpg', 'cloudy203.jpg', 'cloudy204.jpg', 'cloudy205.jpg', 'cloudy206.jpg', 'cloudy207.jpg', 'cloudy208.jpg', 'cloudy209.jpg', 'cloudy21.jpg', 'cloudy210.jpg', 'cloudy211.jpg', 'cloudy212.jpg', 'cloudy213.jpg', 'cloudy214.jpg', 'cloudy215.jpg', 'cloudy216.jpg', 'cloudy217.jpg', 'cloudy218.jpg', 'cloudy219.jpg', 'cloudy22.jpg', 'cloudy220.jpg', 'cloudy221.jpg', 'cloudy222.jpg', 'cloudy223.jpg', 'cloudy224.jpg', 'cloudy225.jpg', 'cloudy226.jpg', 'cloudy227.jpg', 'cloudy228.jpg', 'cloudy229.jpg', 'cloudy23.jpg', 'cloudy230.jpg', 'cloudy231.jpg', 'cloudy232.jpg', 'cloudy233.jpg', 'cloudy234.jpg', 'cloudy235.jpg', 'cloudy236.jpg', 'cloudy237.jpg', 'cloudy238.jpg', 'cloudy239.jpg', 'cloudy24.jpg', 'cloudy240.jpg', 'cloudy241.jpg', 'cloudy242.jpg', 'cloudy243.jpg', 'cloudy244.jpg', 'cloudy245.jpg', 'cloudy246.jpg', 'cloudy247.jpg', 'cloudy248.jpg', 'cloudy249.jpg', 'cloudy25.jpg', 'cloudy250.jpg', 'cloudy251.jpg', 'cloudy252.jpg', 'cloudy253.jpg', 'cloudy254.jpg', 'cloudy255.jpg', 'cloudy256.jpg', 'cloudy257.jpg', 'cloudy258.jpg', 'cloudy259.jpg', 'cloudy26.jpg', 'cloudy260.jpg', 'cloudy261.jpg', 'cloudy262.jpg', 'cloudy263.jpg', 'cloudy264.jpg', 'cloudy265.jpg', 'cloudy266.jpg', 'cloudy267.jpg', 'cloudy268.jpg', 'cloudy269.jpg', 'cloudy27.jpg', 'cloudy270.jpg', 'cloudy271.jpg', 'cloudy272.jpg', 'cloudy273.jpg', 'cloudy274.jpg', 'cloudy275.jpg', 'cloudy276.jpg', 'cloudy277.jpg', 'cloudy278.jpg', 'cloudy279.jpg', 'cloudy28.jpg', 'cloudy280.jpg', 'cloudy281.jpg', 'cloudy282.jpg', 'cloudy283.jpg', 'cloudy284.jpg', 'cloudy285.jpg', 'cloudy286.jpg', 'cloudy287.jpg', 'cloudy288.jpg', 'cloudy289.jpg', 'cloudy29.jpg', 'cloudy290.jpg', 'cloudy291.jpg', 'cloudy292.jpg', 'cloudy293.jpg', 'cloudy294.jpg', 'cloudy295.jpg', 'cloudy296.jpg', 'cloudy297.jpg', 'cloudy298.jpg', 'cloudy299.jpg', 'cloudy3.jpg', 'cloudy30.jpg', 'cloudy300.jpg', 'cloudy31.jpg', 'cloudy32.jpg', 'cloudy33.jpg', 'cloudy34.jpg', 'cloudy35.jpg', 'cloudy36.jpg', 'cloudy37.jpg', 'cloudy38.jpg', 'cloudy39.jpg', 'cloudy4.jpg', 'cloudy40.jpg', 'cloudy41.jpg', 'cloudy42.jpg', 'cloudy43.jpg', 'cloudy44.jpg', 'cloudy45.jpg', 'cloudy46.jpg', 'cloudy47.jpg', 'cloudy48.jpg', 'cloudy49.jpg', 'cloudy5.jpg', 'cloudy50.jpg', 'cloudy51.jpg', 'cloudy52.jpg', 'cloudy53.jpg', 'cloudy54.jpg', 'cloudy55.jpg', 'cloudy56.jpg', 'cloudy57.jpg', 'cloudy58.jpg', 'cloudy59.jpg', 'cloudy6.jpg', 'cloudy60.jpg', 'cloudy61.jpg', 'cloudy62.jpg', 'cloudy63.jpg', 'cloudy64.jpg', 'cloudy65.jpg', 'cloudy66.jpg', 'cloudy67.jpg', 'cloudy68.jpg', 'cloudy69.jpg', 'cloudy7.jpg', 'cloudy70.jpg', 'cloudy71.jpg', 'cloudy72.jpg', 'cloudy73.jpg', 'cloudy74.jpg', 'cloudy75.jpg', 'cloudy76.jpg', 'cloudy77.jpg', 'cloudy78.jpg', 'cloudy79.jpg', 'cloudy8.jpg', 'cloudy80.jpg', 'cloudy81.jpg', 'cloudy82.jpg', 'cloudy83.jpg', 'cloudy84.jpg', 'cloudy85.jpg', 'cloudy86.jpg', 'cloudy87.jpg', 'cloudy88.jpg', 'cloudy89.jpg', 'cloudy9.jpg', 'cloudy90.jpg', 'cloudy91.jpg', 'cloudy92.jpg', 'cloudy93.jpg', 'cloudy94.jpg', 'cloudy95.jpg', 'cloudy96.jpg', 'cloudy97.jpg', 'cloudy98.jpg', 'cloudy99.jpg', 'rain1.jpg', 'rain10.jpg', 'rain100.jpg', 'rain101.jpg', 'rain102.jpg', 'rain103.jpg', 'rain104.jpg', 'rain105.jpg', 'rain106.jpg', 'rain107.jpg', 'rain108.jpg', 'rain109.jpg', 'rain11.jpg', 'rain110.jpg', 'rain111.jpg', 'rain112.jpg', 'rain113.jpg', 'rain114.jpg', 'rain115.jpg', 'rain116.jpg', 'rain117.jpg', 'rain118.jpg', 'rain119.jpg', 'rain12.jpg', 'rain120.jpg', 'rain121.jpg', 'rain122.jpg', 'rain123.jpg', 'rain124.jpg', 'rain125.jpg', 'rain126.jpg', 'rain127.jpg', 'rain128.jpg', 'rain129.jpg', 'rain13.jpg', 'rain130.jpg', 'rain131.jpg', 'rain132.jpg', 'rain133.jpg', 'rain134.jpg', 'rain135.jpg', 'rain136.jpg', 'rain137.jpg', 'rain138.jpg', 'rain139.jpg', 'rain14.jpg', 'rain140.jpg', 'rain141.jpg', 'rain142.jpg', 'rain143.jpg', 'rain144.jpg', 'rain145.jpg', 'rain146.jpg', 'rain147.jpg', 'rain148.jpg', 'rain149.jpg', 'rain15.jpg', 'rain150.jpg', 'rain151.jpg', 'rain152.jpg', 'rain153.jpg', 'rain154.jpg', 'rain155.jpg', 'rain156.jpg', 'rain157.jpg', 'rain158.jpg', 'rain159.jpg', 'rain16.jpg', 'rain160.jpg', 'rain161.jpg', 'rain162.jpg', 'rain163.jpg', 'rain164.jpg', 'rain165.jpg', 'rain166.jpg', 'rain167.jpg', 'rain168.jpg', 'rain169.jpg', 'rain17.jpg', 'rain170.jpg', 'rain171.jpg', 'rain172.jpg', 'rain173.jpg', 'rain174.jpg', 'rain175.jpg', 'rain176.jpg', 'rain177.jpg', 'rain178.jpg', 'rain179.jpg', 'rain18.jpg', 'rain180.jpg', 'rain181.jpg', 'rain182.jpg', 'rain183.jpg', 'rain184.jpg', 'rain185.jpg', 'rain186.jpg', 'rain187.jpg', 'rain188.jpg', 'rain189.jpg', 'rain19.jpg', 'rain190.jpg', 'rain191.jpg', 'rain192.jpg', 'rain193.jpg', 'rain194.jpg', 'rain195.jpg', 'rain196.jpg', 'rain197.jpg', 'rain198.jpg', 'rain199.jpg', 'rain2.jpg', 'rain20.jpg', 'rain200.jpg', 'rain201.jpg', 'rain202.jpg', 'rain203.jpg', 'rain204.jpg', 'rain205.jpg', 'rain206.jpg', 'rain207.jpg', 'rain208.jpg', 'rain209.jpg', 'rain21.jpg', 'rain210.jpg', 'rain211.jpg', 'rain212.jpg', 'rain213.jpg', 'rain214.jpg', 'rain215.jpg', 'rain22.jpeg', 'rain23.jpg', 'rain24.jpeg', 'rain25.jpg', 'rain26.jpg', 'rain27.jpg', 'rain28.jpg', 'rain29.jpg', 'rain3.jpg', 'rain30.jpg', 'rain31.jpg', 'rain32.jpg', 'rain33.jpg', 'rain34.jpg', 'rain35.jpg', 'rain36.jpg', 'rain37.jpg', 'rain38.jpg', 'rain39.jpg', 'rain4.jpg', 'rain40.jpg', 'rain41.jpg', 'rain42.jpg', 'rain43.jpg', 'rain44.jpg', 'rain45.jpg', 'rain46.jpg', 'rain47.jpg', 'rain48.jpg', 'rain49.jpg', 'rain5.jpg', 'rain50.jpg', 'rain51.jpg', 'rain52.jpg', 'rain53.jpg', 'rain54.jpg', 'rain55.jpg', 'rain56.jpg', 'rain57.jpg', 'rain58.jpg', 'rain59.jpg', 'rain6.jpg', 'rain60.jpg', 'rain61.jpg', 'rain62.jpg', 'rain63.jpg', 'rain64.jpg', 'rain65.jpg', 'rain66.jpg', 'rain67.jpg', 'rain68.jpg', 'rain69.jpg', 'rain7.jpg', 'rain70.jpg', 'rain71.jpg', 'rain72.jpg', 'rain73.jpg', 'rain74.jpg', 'rain75.jpg', 'rain76.jpg', 'rain77.jpg', 'rain78.jpg', 'rain79.jpg', 'rain8.jpg', 'rain80.jpg', 'rain81.jpg', 'rain82.jpg', 'rain83.jpg', 'rain84.jpg', 'rain85.jpg', 'rain86.jpg', 'rain87.jpg', 'rain88.jpg', 'rain89.jpg', 'rain9.jpg', 'rain90.jpg', 'rain91.jpg', 'rain92.jpg', 'rain93.jpg', 'rain94.jpg', 'rain95.jpg', 'rain96.jpg', 'rain97.jpg', 'rain98.jpg', 'rain99.jpg', 'shine1.jpg', 'shine10.jpg', 'shine100.jpg', 'shine101.jpg', 'shine102.jpg', 'shine103.jpg', 'shine104.jpg', 'shine105.jpg', 'shine106.jpg', 'shine107.jpg', 'shine108.jpg', 'shine109.jpg', 'shine11.jpg', 'shine110.jpg', 'shine111.jpg', 'shine112.jpg', 'shine113.jpg', 'shine114.jpg', 'shine115.jpg', 'shine116.jpg', 'shine117.jpg', 'shine118.jpg', 'shine119.jpg', 'shine12.jpg', 'shine120.jpg', 'shine121.jpg', 'shine122.jpg', 'shine123.jpg', 'shine124.jpg', 'shine125.jpg', 'shine126.jpg', 'shine127.jpg', 'shine128.jpg', 'shine129.jpg', 'shine13.jpg', 'shine130.jpg', 'shine131.jpg', 'shine132.jpg', 'shine133.jpg', 'shine134.jpg', 'shine135.jpg', 'shine136.jpg', 'shine137.jpg', 'shine138.jpg', 'shine139.jpg', 'shine14.jpg', 'shine140.jpg', 'shine141.jpg', 'shine142.jpg', 'shine143.jpg', 'shine144.jpg', 'shine145.jpg', 'shine146.jpg', 'shine147.jpg', 'shine148.jpg', 'shine149.jpg', 'shine15.jpg', 'shine150.jpg', 'shine151.jpg', 'shine152.jpg', 'shine153.jpg', 'shine154.jpg', 'shine155.jpg', 'shine156.jpg', 'shine157.jpg', 'shine158.jpg', 'shine159.jpg', 'shine16.jpg', 'shine160.jpg', 'shine161.jpg', 'shine162.jpg', 'shine163.jpg', 'shine164.jpg', 'shine165.jpg', 'shine166.jpg', 'shine167.jpg', 'shine168.jpg', 'shine169.jpg', 'shine17.jpg', 'shine170.jpg', 'shine171.jpg', 'shine172.jpg', 'shine173.jpg', 'shine174.jpg', 'shine175.jpg', 'shine176.jpg', 'shine177.jpg', 'shine178.jpg', 'shine179.jpg', 'shine18.jpg', 'shine180.jpg', 'shine181.jpg', 'shine182.jpg', 'shine183.jpg', 'shine184.jpg', 'shine185.jpg', 'shine186.jpg', 'shine187.jpg', 'shine188.jpg', 'shine189.jpg', 'shine19.jpg', 'shine190.jpg', 'shine191.jpg', 'shine192.jpg', 'shine193.jpg', 'shine194.jpg', 'shine195.jpg', 'shine196.jpg', 'shine197.jpg', 'shine198.jpg', 'shine199.jpg', 'shine2.jpg', 'shine20.jpg', 'shine200.jpg', 'shine201.jpg', 'shine202.jpg', 'shine203.jpg', 'shine204.jpg', 'shine205.jpg', 'shine206.jpg', 'shine207.jpg', 'shine208.jpg', 'shine209.jpg', 'shine21.jpg', 'shine210.jpg', 'shine211.jpg', 'shine212.jpg', 'shine213.jpg', 'shine214.jpg', 'shine215.jpg', 'shine216.jpg', 'shine217.jpg', 'shine218.jpg', 'shine219.jpg', 'shine22.jpg', 'shine220.jpg', 'shine221.jpg', 'shine222.jpg', 'shine223.jpg', 'shine224.jpg', 'shine225.jpg', 'shine226.jpg', 'shine227.jpg', 'shine228.jpg', 'shine229.jpg', 'shine23.jpg', 'shine230.jpg', 'shine231.jpg', 'shine232.jpg', 'shine233.jpg', 'shine234.jpg', 'shine235.jpg', 'shine236.jpg', 'shine237.jpg', 'shine238.jpg', 'shine239.jpg', 'shine24.jpg', 'shine240.jpg', 'shine241.jpg', 'shine242.jpg', 'shine243.jpg', 'shine244.jpg', 'shine245.jpg', 'shine246.jpg', 'shine247.jpg', 'shine248.jpg', 'shine249.jpg', 'shine25.jpg', 'shine250.jpg', 'shine251.jpg', 'shine252.jpg', 'shine253.jpg', 'shine26.jpg', 'shine27.jpg', 'shine28.jpg', 'shine29.jpg', 'shine3.jpg', 'shine30.jpg', 'shine31.jpg', 'shine32.jpg', 'shine33.jpg', 'shine34.jpg', 'shine35.jpg', 'shine36.jpg', 'shine37.jpg', 'shine38.jpg', 'shine39.jpg', 'shine4.jpg', 'shine40.jpg', 'shine41.jpg', 'shine42.jpg', 'shine43.jpg', 'shine44.jpg', 'shine45.jpg', 'shine46.jpg', 'shine47.jpg', 'shine48.jpg', 'shine49.jpg', 'shine5.jpg', 'shine50.jpg', 'shine51.jpg', 'shine52.jpg', 'shine53.jpg', 'shine54.jpg', 'shine55.jpg', 'shine56.jpg', 'shine57.jpg', 'shine58.jpg', 'shine59.jpg', 'shine6.jpg', 'shine60.jpg', 'shine61.jpg', 'shine62.jpg', 'shine63.jpg', 'shine64.jpg', 'shine65.jpg', 'shine66.jpg', 'shine67.jpg', 'shine68.jpg', 'shine69.jpg', 'shine7.jpg', 'shine70.jpg', 'shine71.jpg', 'shine72.jpg', 'shine73.jpg', 'shine74.jpg', 'shine75.jpg', 'shine76.jpg', 'shine77.jpg', 'shine78.jpg', 'shine79.jpg', 'shine8.jpg', 'shine80.jpg', 'shine81.jpg', 'shine82.jpg', 'shine83.jpg', 'shine84.jpg', 'shine85.jpg', 'shine86.jpg', 'shine87.jpg', 'shine88.jpg', 'shine89.jpg', 'shine9.jpg', 'shine90.jpg', 'shine91.jpg', 'shine92.jpg', 'shine93.jpg', 'shine94.jpg', 'shine95.jpg', 'shine96.jpg', 'shine97.jpg', 'shine98.jpg', 'shine99.jpg', 'sunrise1.jpg', 'sunrise10.jpg', 'sunrise100.jpg', 'sunrise101.jpg', 'sunrise102.jpg', 'sunrise103.jpg', 'sunrise104.jpg', 'sunrise105.jpg', 'sunrise106.jpg', 'sunrise107.jpg', 'sunrise108.jpg', 'sunrise109.jpg', 'sunrise11.jpg', 'sunrise110.jpg', 'sunrise111.jpg', 'sunrise112.jpg', 'sunrise113.jpg', 'sunrise114.jpg', 'sunrise115.jpg', 'sunrise116.jpg', 'sunrise117.jpg', 'sunrise118.jpg', 'sunrise119.jpg', 'sunrise12.jpg', 'sunrise120.jpg', 'sunrise121.jpg', 'sunrise122.jpg', 'sunrise123.jpg', 'sunrise124.jpg', 'sunrise125.jpg', 'sunrise126.jpg', 'sunrise127.jpg', 'sunrise128.jpg', 'sunrise129.jpg', 'sunrise13.jpg', 'sunrise130.jpg', 'sunrise131.jpg', 'sunrise132.jpg', 'sunrise133.jpg', 'sunrise134.jpg', 'sunrise135.jpg', 'sunrise136.jpg', 'sunrise137.jpg', 'sunrise138.jpg', 'sunrise139.jpg', 'sunrise14.jpg', 'sunrise140.jpg', 'sunrise141.jpg', 'sunrise142.jpg', 'sunrise143.jpg', 'sunrise144.jpg', 'sunrise145.jpg', 'sunrise146.jpg', 'sunrise147.jpg', 'sunrise148.jpg', 'sunrise149.jpg', 'sunrise15.jpg', 'sunrise150.jpg', 'sunrise151.jpg', 'sunrise152.jpg', 'sunrise153.jpg', 'sunrise154.jpg', 'sunrise155.jpg', 'sunrise156.jpg', 'sunrise157.jpg', 'sunrise158.jpg', 'sunrise159.jpg', 'sunrise16.jpg', 'sunrise160.jpg', 'sunrise161.jpg', 'sunrise162.jpg', 'sunrise163.jpg', 'sunrise164.jpg', 'sunrise165.jpg', 'sunrise166.jpg', 'sunrise167.jpg', 'sunrise168.jpg', 'sunrise169.jpg', 'sunrise17.jpg', 'sunrise170.jpg', 'sunrise171.jpg', 'sunrise172.jpg', 'sunrise173.jpg', 'sunrise174.jpg', 'sunrise175.jpg', 'sunrise176.jpg', 'sunrise177.jpg', 'sunrise178.jpg', 'sunrise179.jpg', 'sunrise18.jpg', 'sunrise180.jpg', 'sunrise181.jpg', 'sunrise182.jpg', 'sunrise183.jpg', 'sunrise184.jpg', 'sunrise185.jpg', 'sunrise186.jpg', 'sunrise187.jpg', 'sunrise188.jpg', 'sunrise189.jpg', 'sunrise19.jpg', 'sunrise190.jpg', 'sunrise191.jpg', 'sunrise192.jpg', 'sunrise193.jpg', 'sunrise194.jpg', 'sunrise195.jpg', 'sunrise196.jpg', 'sunrise197.jpg', 'sunrise198.jpg', 'sunrise199.jpg', 'sunrise2.jpg', 'sunrise20.jpg', 'sunrise200.jpg', 'sunrise201.jpg', 'sunrise202.jpg', 'sunrise203.jpg', 'sunrise204.jpg', 'sunrise205.jpg', 'sunrise206.jpg', 'sunrise207.jpg', 'sunrise208.jpg', 'sunrise209.jpg', 'sunrise21.jpg', 'sunrise210.jpg', 'sunrise211.jpg', 'sunrise212.jpg', 'sunrise213.jpg', 'sunrise214.jpg', 'sunrise215.jpg', 'sunrise216.jpg', 'sunrise217.jpg', 'sunrise218.jpg', 'sunrise219.jpg', 'sunrise22.jpg', 'sunrise220.jpg', 'sunrise221.jpg', 'sunrise222.jpg', 'sunrise223.jpg', 'sunrise224.jpg', 'sunrise225.jpg', 'sunrise226.jpg', 'sunrise227.jpg', 'sunrise228.jpg', 'sunrise229.jpg', 'sunrise23.jpg', 'sunrise230.jpg', 'sunrise231.jpg', 'sunrise232.jpg', 'sunrise233.jpg', 'sunrise234.jpg', 'sunrise235.jpg', 'sunrise236.jpg', 'sunrise237.jpg', 'sunrise238.jpg', 'sunrise239.jpg', 'sunrise24.jpg', 'sunrise240.jpg', 'sunrise241.jpg', 'sunrise242.jpg', 'sunrise243.jpg', 'sunrise244.jpg', 'sunrise245.jpg', 'sunrise246.jpg', 'sunrise247.jpg', 'sunrise248.jpg', 'sunrise249.jpg', 'sunrise25.jpg', 'sunrise250.jpg', 'sunrise251.jpg', 'sunrise252.jpg', 'sunrise253.jpg', 'sunrise254.jpg', 'sunrise255.jpg', 'sunrise256.jpg', 'sunrise257.jpg', 'sunrise258.jpg', 'sunrise259.jpg', 'sunrise26.jpg', 'sunrise260.jpg', 'sunrise261.jpg', 'sunrise262.jpg', 'sunrise263.jpg', 'sunrise264.jpg', 'sunrise265.jpg', 'sunrise266.jpg', 'sunrise267.jpg', 'sunrise268.jpg', 'sunrise269.jpg', 'sunrise27.jpg', 'sunrise270.jpg', 'sunrise271.jpg', 'sunrise272.jpg', 'sunrise273.jpg', 'sunrise274.jpg', 'sunrise275.jpg', 'sunrise276.jpg', 'sunrise277.jpg', 'sunrise278.jpg', 'sunrise279.jpg', 'sunrise28.jpg', 'sunrise280.jpg', 'sunrise281.jpg', 'sunrise282.jpg', 'sunrise283.jpg', 'sunrise284.jpg', 'sunrise285.jpg', 'sunrise286.jpg', 'sunrise287.jpg', 'sunrise288.jpg', 'sunrise289.jpg', 'sunrise29.jpg', 'sunrise290.jpg', 'sunrise291.jpg', 'sunrise292.jpg', 'sunrise293.jpg', 'sunrise294.jpg', 'sunrise295.jpg', 'sunrise296.jpg', 'sunrise297.jpg', 'sunrise298.jpg', 'sunrise299.jpg', 'sunrise3.jpg', 'sunrise30.jpg', 'sunrise300.jpg', 'sunrise301.jpg', 'sunrise302.jpg', 'sunrise303.jpg', 'sunrise304.jpg', 'sunrise305.jpg', 'sunrise306.jpg', 'sunrise307.jpg', 'sunrise308.jpg', 'sunrise309.jpg', 'sunrise31.jpg', 'sunrise310.jpg', 'sunrise311.jpg', 'sunrise312.jpg', 'sunrise313.jpg', 'sunrise314.jpg', 'sunrise315.jpg', 'sunrise316.jpg', 'sunrise317.jpg', 'sunrise318.jpg', 'sunrise319.jpg', 'sunrise32.jpg', 'sunrise320.jpg', 'sunrise321.jpg', 'sunrise322.jpg', 'sunrise323.jpg', 'sunrise324.jpg', 'sunrise325.jpg', 'sunrise326.jpg', 'sunrise327.jpg', 'sunrise328.jpg', 'sunrise329.jpg', 'sunrise33.jpg', 'sunrise330.jpg', 'sunrise331.jpg', 'sunrise332.jpg', 'sunrise333.jpg', 'sunrise334.jpg', 'sunrise335.jpg', 'sunrise336.jpg', 'sunrise337.jpg', 'sunrise338.jpg', 'sunrise339.jpg', 'sunrise34.jpg', 'sunrise340.jpg', 'sunrise341.jpg', 'sunrise342.jpg', 'sunrise343.jpg', 'sunrise344.jpg', 'sunrise345.jpg', 'sunrise346.jpg', 'sunrise347.jpg', 'sunrise348.jpg', 'sunrise349.jpg', 'sunrise35.jpg', 'sunrise350.jpg', 'sunrise351.jpg', 'sunrise352.jpg', 'sunrise353.jpg', 'sunrise354.jpg', 'sunrise355.jpg', 'sunrise356.jpg', 'sunrise357.jpg', 'sunrise36.jpg', 'sunrise37.jpg', 'sunrise38.jpg', 'sunrise39.jpg', 'sunrise4.jpg', 'sunrise40.jpg', 'sunrise41.jpg', 'sunrise42.jpg', 'sunrise43.jpg', 'sunrise44.jpg', 'sunrise45.jpg', 'sunrise46.jpg', 'sunrise47.jpg', 'sunrise48.jpg', 'sunrise49.jpg', 'sunrise5.jpg', 'sunrise50.jpg', 'sunrise51.jpg', 'sunrise52.jpg', 'sunrise53.jpg', 'sunrise54.jpg', 'sunrise55.jpg', 'sunrise56.jpg', 'sunrise57.jpg', 'sunrise58.jpg', 'sunrise59.jpg', 'sunrise6.jpg', 'sunrise60.jpg', 'sunrise61.jpg', 'sunrise62.jpg', 'sunrise63.jpg', 'sunrise64.jpg', 'sunrise65.jpg', 'sunrise66.jpg', 'sunrise67.jpg', 'sunrise68.jpg', 'sunrise69.jpg', 'sunrise7.jpg', 'sunrise70.jpg', 'sunrise71.jpg', 'sunrise72.jpg', 'sunrise73.jpg', 'sunrise74.jpg', 'sunrise75.jpg', 'sunrise76.jpg', 'sunrise77.jpg', 'sunrise78.jpg', 'sunrise79.jpg', 'sunrise8.jpg', 'sunrise80.jpg', 'sunrise81.jpg', 'sunrise82.jpg', 'sunrise83.jpg', 'sunrise84.jpg', 'sunrise85.jpg', 'sunrise86.jpg', 'sunrise87.jpg', 'sunrise88.jpg', 'sunrise89.jpeg', 'sunrise9.jpg', 'sunrise90.jpg', 'sunrise91.jpg', 'sunrise92.jpg', 'sunrise93.jpg', 'sunrise94.jpg', 'sunrise95.jpg', 'sunrise96.jpg', 'sunrise97.jpg', 'sunrise98.jpg', 'sunrise99.jpg']\n"
     ]
    }
   ],
   "source": [
    "'''\n",
    "# 2- Load the dataset and count how many total instances are in complete dataset (Display the results)?\n",
    "'''\n",
    "\n",
    "# Write your code here\n",
    "dataset_dir ='weather-image-classification'\n",
    "images = os.listdir(dataset_dir)\n",
    "total_instances =len(images)\n",
    "print('Total instances in Dataset are: ',total_instances)\n",
    "print(images)\n"
   ]
  },
  {
   "cell_type": "code",
   "execution_count": 39,
   "metadata": {},
   "outputs": [
    {
     "name": "stdout",
     "output_type": "stream",
     "text": [
      "Total instance in class1: 300\n",
      "Total instance in class2: 213\n",
      "Total instance in class3: 253\n",
      "Total instance in class4: 356\n",
      "[300, 213, 253, 356]\n"
     ]
    }
   ],
   "source": [
    "'''\n",
    "# 3- Count how many instances are for each class (Display in table format and plot the bar graph)\n",
    "'''\n",
    "\n",
    "# Write your code here\n",
    "total_classes = 4\n",
    "test_image_list = []\n",
    "instances = []\n",
    "instance1 = ['cloudy{}.jpg'.format(i) for i in range(total_instances)]\n",
    "count_class1_instances = 0\n",
    "\n",
    "for i in range(total_instances):\n",
    "    for j in range(total_instances):\n",
    "        if instance1[j]==images[i]:\n",
    "            count_class1_instances=count_class1_instances+1\n",
    "test_image_list.append(count_class1_instances)    \n",
    "print('Total instance in class1:',count_class1_instances)\n",
    "instance2 = ['rain{}.jpg'.format(i) for i in range(total_instances)]\n",
    "count_class2_instances = 0\n",
    "for i in range(total_instances):\n",
    "    for j in range(total_instances):\n",
    "        if instance2[j]==images[i]:\n",
    "            count_class2_instances=count_class2_instances+1\n",
    "test_image_list.append(count_class2_instances)    \n",
    "print('Total instance in class2:',count_class2_instances)\n",
    "\n",
    "\n",
    "instance3 = ['shine{}.jpg'.format(i) for i in range(total_instances)]\n",
    "count_class3_instances = 0\n",
    "for i in range(total_instances):\n",
    "    for j in range(total_instances):\n",
    "        if instance3[j]==images[i]:\n",
    "            count_class3_instances=count_class3_instances+1\n",
    "test_image_list.append(count_class3_instances)    \n",
    "print('Total instance in class3:',count_class3_instances)\n",
    "\n",
    "\n",
    "instance4 = ['sunrise{}.jpg'.format(i) for i in range(total_instances)]\n",
    "count_class4_instances = 0\n",
    "for i in range(total_instances):\n",
    "    for j in range(total_instances):\n",
    "        if instance4[j]==images[i]:\n",
    "            count_class4_instances=count_class4_instances+1\n",
    "\n",
    "test_image_list.append(count_class4_instances)    \n",
    "\n",
    "print('Total instance in class4:',count_class4_instances)\n",
    "print(test_image_list)\n"
   ]
  },
  {
   "cell_type": "code",
   "execution_count": 44,
   "metadata": {},
   "outputs": [
    {
     "ename": "ValueError",
     "evalue": "shape mismatch: objects cannot be broadcast to a single shape",
     "output_type": "error",
     "traceback": [
      "\u001b[1;31m---------------------------------------------------------------------------\u001b[0m",
      "\u001b[1;31mValueError\u001b[0m                                Traceback (most recent call last)",
      "\u001b[1;32m<ipython-input-44-d47fa25efcef>\u001b[0m in \u001b[0;36m<module>\u001b[1;34m\u001b[0m\n\u001b[0;32m      6\u001b[0m \u001b[0mindex\u001b[0m \u001b[1;33m=\u001b[0m \u001b[0mnp\u001b[0m\u001b[1;33m.\u001b[0m\u001b[0marange\u001b[0m\u001b[1;33m(\u001b[0m\u001b[0mlen\u001b[0m\u001b[1;33m(\u001b[0m\u001b[0mimages\u001b[0m\u001b[1;33m)\u001b[0m\u001b[1;33m)\u001b[0m\u001b[1;33m\u001b[0m\u001b[1;33m\u001b[0m\u001b[0m\n\u001b[0;32m      7\u001b[0m \u001b[0mplt\u001b[0m\u001b[1;33m.\u001b[0m\u001b[0mfigure\u001b[0m\u001b[1;33m(\u001b[0m\u001b[0mfigsize\u001b[0m\u001b[1;33m=\u001b[0m\u001b[1;33m(\u001b[0m\u001b[1;36m20\u001b[0m\u001b[1;33m,\u001b[0m\u001b[1;36m10\u001b[0m\u001b[1;33m)\u001b[0m\u001b[1;33m)\u001b[0m\u001b[1;33m\u001b[0m\u001b[1;33m\u001b[0m\u001b[0m\n\u001b[1;32m----> 8\u001b[1;33m \u001b[0mplt\u001b[0m\u001b[1;33m.\u001b[0m\u001b[0mbar\u001b[0m\u001b[1;33m(\u001b[0m\u001b[0mimages\u001b[0m\u001b[1;33m,\u001b[0m\u001b[0mimage_count_per_class\u001b[0m\u001b[1;33m)\u001b[0m\u001b[1;33m\u001b[0m\u001b[1;33m\u001b[0m\u001b[0m\n\u001b[0m\u001b[0;32m      9\u001b[0m \u001b[0mplt\u001b[0m\u001b[1;33m.\u001b[0m\u001b[0mxlabel\u001b[0m\u001b[1;33m(\u001b[0m\u001b[1;34m'Image Classes'\u001b[0m\u001b[1;33m,\u001b[0m\u001b[0mfontsize\u001b[0m\u001b[1;33m=\u001b[0m\u001b[1;36m15\u001b[0m\u001b[1;33m)\u001b[0m\u001b[1;33m\u001b[0m\u001b[1;33m\u001b[0m\u001b[0m\n\u001b[0;32m     10\u001b[0m \u001b[0mplt\u001b[0m\u001b[1;33m.\u001b[0m\u001b[0mylabel\u001b[0m\u001b[1;33m(\u001b[0m\u001b[1;34m'Number of Images per class'\u001b[0m\u001b[1;33m,\u001b[0m\u001b[0mfontsize\u001b[0m\u001b[1;33m=\u001b[0m\u001b[1;36m15\u001b[0m\u001b[1;33m)\u001b[0m\u001b[1;33m\u001b[0m\u001b[1;33m\u001b[0m\u001b[0m\n",
      "\u001b[1;32m~\\Anaconda3\\lib\\site-packages\\matplotlib\\pyplot.py\u001b[0m in \u001b[0;36mbar\u001b[1;34m(x, height, width, bottom, align, data, **kwargs)\u001b[0m\n\u001b[0;32m   2457\u001b[0m     return gca().bar(\n\u001b[0;32m   2458\u001b[0m         \u001b[0mx\u001b[0m\u001b[1;33m,\u001b[0m \u001b[0mheight\u001b[0m\u001b[1;33m,\u001b[0m \u001b[0mwidth\u001b[0m\u001b[1;33m=\u001b[0m\u001b[0mwidth\u001b[0m\u001b[1;33m,\u001b[0m \u001b[0mbottom\u001b[0m\u001b[1;33m=\u001b[0m\u001b[0mbottom\u001b[0m\u001b[1;33m,\u001b[0m \u001b[0malign\u001b[0m\u001b[1;33m=\u001b[0m\u001b[0malign\u001b[0m\u001b[1;33m,\u001b[0m\u001b[1;33m\u001b[0m\u001b[1;33m\u001b[0m\u001b[0m\n\u001b[1;32m-> 2459\u001b[1;33m         **({\"data\": data} if data is not None else {}), **kwargs)\n\u001b[0m\u001b[0;32m   2460\u001b[0m \u001b[1;33m\u001b[0m\u001b[0m\n\u001b[0;32m   2461\u001b[0m \u001b[1;33m\u001b[0m\u001b[0m\n",
      "\u001b[1;32m~\\Anaconda3\\lib\\site-packages\\matplotlib\\__init__.py\u001b[0m in \u001b[0;36minner\u001b[1;34m(ax, data, *args, **kwargs)\u001b[0m\n\u001b[0;32m   1808\u001b[0m                         \u001b[1;34m\"the Matplotlib list!)\"\u001b[0m \u001b[1;33m%\u001b[0m \u001b[1;33m(\u001b[0m\u001b[0mlabel_namer\u001b[0m\u001b[1;33m,\u001b[0m \u001b[0mfunc\u001b[0m\u001b[1;33m.\u001b[0m\u001b[0m__name__\u001b[0m\u001b[1;33m)\u001b[0m\u001b[1;33m,\u001b[0m\u001b[1;33m\u001b[0m\u001b[1;33m\u001b[0m\u001b[0m\n\u001b[0;32m   1809\u001b[0m                         RuntimeWarning, stacklevel=2)\n\u001b[1;32m-> 1810\u001b[1;33m             \u001b[1;32mreturn\u001b[0m \u001b[0mfunc\u001b[0m\u001b[1;33m(\u001b[0m\u001b[0max\u001b[0m\u001b[1;33m,\u001b[0m \u001b[1;33m*\u001b[0m\u001b[0margs\u001b[0m\u001b[1;33m,\u001b[0m \u001b[1;33m**\u001b[0m\u001b[0mkwargs\u001b[0m\u001b[1;33m)\u001b[0m\u001b[1;33m\u001b[0m\u001b[1;33m\u001b[0m\u001b[0m\n\u001b[0m\u001b[0;32m   1811\u001b[0m \u001b[1;33m\u001b[0m\u001b[0m\n\u001b[0;32m   1812\u001b[0m         inner.__doc__ = _add_data_doc(inner.__doc__,\n",
      "\u001b[1;32m~\\Anaconda3\\lib\\site-packages\\matplotlib\\axes\\_axes.py\u001b[0m in \u001b[0;36mbar\u001b[1;34m(self, x, height, width, bottom, align, **kwargs)\u001b[0m\n\u001b[0;32m   2249\u001b[0m         x, height, width, y, linewidth = np.broadcast_arrays(\n\u001b[0;32m   2250\u001b[0m             \u001b[1;31m# Make args iterable too.\u001b[0m\u001b[1;33m\u001b[0m\u001b[1;33m\u001b[0m\u001b[1;33m\u001b[0m\u001b[0m\n\u001b[1;32m-> 2251\u001b[1;33m             np.atleast_1d(x), height, width, y, linewidth)\n\u001b[0m\u001b[0;32m   2252\u001b[0m \u001b[1;33m\u001b[0m\u001b[0m\n\u001b[0;32m   2253\u001b[0m         \u001b[1;31m# Now that units have been converted, set the tick locations.\u001b[0m\u001b[1;33m\u001b[0m\u001b[1;33m\u001b[0m\u001b[1;33m\u001b[0m\u001b[0m\n",
      "\u001b[1;32m~\\Anaconda3\\lib\\site-packages\\numpy\\lib\\stride_tricks.py\u001b[0m in \u001b[0;36mbroadcast_arrays\u001b[1;34m(*args, **kwargs)\u001b[0m\n\u001b[0;32m    250\u001b[0m     \u001b[0margs\u001b[0m \u001b[1;33m=\u001b[0m \u001b[1;33m[\u001b[0m\u001b[0mnp\u001b[0m\u001b[1;33m.\u001b[0m\u001b[0marray\u001b[0m\u001b[1;33m(\u001b[0m\u001b[0m_m\u001b[0m\u001b[1;33m,\u001b[0m \u001b[0mcopy\u001b[0m\u001b[1;33m=\u001b[0m\u001b[1;32mFalse\u001b[0m\u001b[1;33m,\u001b[0m \u001b[0msubok\u001b[0m\u001b[1;33m=\u001b[0m\u001b[0msubok\u001b[0m\u001b[1;33m)\u001b[0m \u001b[1;32mfor\u001b[0m \u001b[0m_m\u001b[0m \u001b[1;32min\u001b[0m \u001b[0margs\u001b[0m\u001b[1;33m]\u001b[0m\u001b[1;33m\u001b[0m\u001b[1;33m\u001b[0m\u001b[0m\n\u001b[0;32m    251\u001b[0m \u001b[1;33m\u001b[0m\u001b[0m\n\u001b[1;32m--> 252\u001b[1;33m     \u001b[0mshape\u001b[0m \u001b[1;33m=\u001b[0m \u001b[0m_broadcast_shape\u001b[0m\u001b[1;33m(\u001b[0m\u001b[1;33m*\u001b[0m\u001b[0margs\u001b[0m\u001b[1;33m)\u001b[0m\u001b[1;33m\u001b[0m\u001b[1;33m\u001b[0m\u001b[0m\n\u001b[0m\u001b[0;32m    253\u001b[0m \u001b[1;33m\u001b[0m\u001b[0m\n\u001b[0;32m    254\u001b[0m     \u001b[1;32mif\u001b[0m \u001b[0mall\u001b[0m\u001b[1;33m(\u001b[0m\u001b[0marray\u001b[0m\u001b[1;33m.\u001b[0m\u001b[0mshape\u001b[0m \u001b[1;33m==\u001b[0m \u001b[0mshape\u001b[0m \u001b[1;32mfor\u001b[0m \u001b[0marray\u001b[0m \u001b[1;32min\u001b[0m \u001b[0margs\u001b[0m\u001b[1;33m)\u001b[0m\u001b[1;33m:\u001b[0m\u001b[1;33m\u001b[0m\u001b[1;33m\u001b[0m\u001b[0m\n",
      "\u001b[1;32m~\\Anaconda3\\lib\\site-packages\\numpy\\lib\\stride_tricks.py\u001b[0m in \u001b[0;36m_broadcast_shape\u001b[1;34m(*args)\u001b[0m\n\u001b[0;32m    185\u001b[0m     \u001b[1;31m# use the old-iterator because np.nditer does not handle size 0 arrays\u001b[0m\u001b[1;33m\u001b[0m\u001b[1;33m\u001b[0m\u001b[1;33m\u001b[0m\u001b[0m\n\u001b[0;32m    186\u001b[0m     \u001b[1;31m# consistently\u001b[0m\u001b[1;33m\u001b[0m\u001b[1;33m\u001b[0m\u001b[1;33m\u001b[0m\u001b[0m\n\u001b[1;32m--> 187\u001b[1;33m     \u001b[0mb\u001b[0m \u001b[1;33m=\u001b[0m \u001b[0mnp\u001b[0m\u001b[1;33m.\u001b[0m\u001b[0mbroadcast\u001b[0m\u001b[1;33m(\u001b[0m\u001b[1;33m*\u001b[0m\u001b[0margs\u001b[0m\u001b[1;33m[\u001b[0m\u001b[1;33m:\u001b[0m\u001b[1;36m32\u001b[0m\u001b[1;33m]\u001b[0m\u001b[1;33m)\u001b[0m\u001b[1;33m\u001b[0m\u001b[1;33m\u001b[0m\u001b[0m\n\u001b[0m\u001b[0;32m    188\u001b[0m     \u001b[1;31m# unfortunately, it cannot handle 32 or more arguments directly\u001b[0m\u001b[1;33m\u001b[0m\u001b[1;33m\u001b[0m\u001b[1;33m\u001b[0m\u001b[0m\n\u001b[0;32m    189\u001b[0m     \u001b[1;32mfor\u001b[0m \u001b[0mpos\u001b[0m \u001b[1;32min\u001b[0m \u001b[0mrange\u001b[0m\u001b[1;33m(\u001b[0m\u001b[1;36m32\u001b[0m\u001b[1;33m,\u001b[0m \u001b[0mlen\u001b[0m\u001b[1;33m(\u001b[0m\u001b[0margs\u001b[0m\u001b[1;33m)\u001b[0m\u001b[1;33m,\u001b[0m \u001b[1;36m31\u001b[0m\u001b[1;33m)\u001b[0m\u001b[1;33m:\u001b[0m\u001b[1;33m\u001b[0m\u001b[1;33m\u001b[0m\u001b[0m\n",
      "\u001b[1;31mValueError\u001b[0m: shape mismatch: objects cannot be broadcast to a single shape"
     ]
    },
    {
     "data": {
      "image/png": "[encoded data removed]",
      "text/plain": [
       "<Figure size 1440x720 with 1 Axes>"
      ]
     },
     "metadata": {
      "needs_background": "light"
     },
     "output_type": "display_data"
    }
   ],
   "source": [
    "'''\n",
    "# 4- Plot graph containing samples images from each class.\n",
    "'''\n",
    "# Write your code here\n",
    "image_count_per_class = test_image_list\n",
    "index = np.arange(len(images))\n",
    "plt.figure(figsize=(20,10))\n",
    "plt.bar(images,image_count_per_class)\n",
    "plt.xlabel('Image Classes',fontsize=15)\n",
    "plt.ylabel('Number of Images per class',fontsize=15)\n",
    "plt.xticks(index,images,rotation=90)\n",
    "plt.show()"
   ]
  },
  {
   "cell_type": "code",
   "execution_count": 49,
   "metadata": {},
   "outputs": [
    {
     "name": "stdout",
     "output_type": "stream",
     "text": [
      "2 classes are less than average\n"
     ]
    }
   ],
   "source": [
    "'''\n",
    "5- Find average of instances per class, considering complete dataset and \n",
    "Count how many classes are containing instances less than average (Display the results)?\n",
    "'''\n",
    "\n",
    "# Write your code here\n",
    "average = total_instances/total_classes\n",
    "classes_lessthan_avg = 0\n",
    "for i in range(total_classes):\n",
    "    if image_count_per_class[i]<average:\n",
    "        classes_lessthan_avg = classes_lessthan_avg+1\n",
    "print(classes_lessthan_avg, 'classes are less than average')\n"
   ]
  },
  {
   "cell_type": "code",
   "execution_count": 52,
   "metadata": {},
   "outputs": [
    {
     "ename": "IndentationError",
     "evalue": "expected an indented block (<ipython-input-52-172bed39df5a>, line 46)",
     "output_type": "error",
     "traceback": [
      "\u001b[1;36m  File \u001b[1;32m\"<ipython-input-52-172bed39df5a>\"\u001b[1;36m, line \u001b[1;32m46\u001b[0m\n\u001b[1;33m    for class_ in os.listdir(images):\u001b[0m\n\u001b[1;37m                                     ^\u001b[0m\n\u001b[1;31mIndentationError\u001b[0m\u001b[1;31m:\u001b[0m expected an indented block\n"
     ]
    }
   ],
   "source": [
    "'''\n",
    "6- Perform data augmentation (only for shine and rain class, augment till 300 instances) to balance the data in \n",
    "each class, for augmenting, perform rotation over (-30 to 30) and horizontal flip. \n",
    "Make sure after this step, each class should contain same number of instances.\n",
    "'''\n",
    "\n",
    "# Write your code here\n",
    "def random_rotation(image_array: ndarray):\n",
    "    # pick a random degree of rotation between 30% on the left and 30% on the right\n",
    "    random_degree = random.uniform(-30, 30)\n",
    "    return sk.transform.rotate(image_array, random_degree)\n",
    "\n",
    "def horizontal_flip(image_array: ndarray):\n",
    "    # horizontal flip doesn't need skimage, it's easy as flipping the image array of pixels !\n",
    "    return image_array[:, ::-1]\n",
    "\n",
    "# dictionary of the transformations we defined earlier\n",
    "available_transformations = {\n",
    "    'rotate': random_rotation,\n",
    "    'horizontal_flip': horizontal_flip\n",
    "}\n",
    "\n",
    "\n",
    "\n",
    "\n",
    "\n",
    "\n",
    "#making aumented directory and copy the images to that directory\n",
    "images1 = [os.path.join(dataset_dir, f) for f in os.listdir(dataset_dir) if os.path.isfile(os.path.join(dataset_dir, f))]\n",
    "num_files_desired = 300\n",
    "\n",
    "\n",
    "instance2 = ['rain{}.jpg'.format(i) for i in range(total_instances)]\n",
    "count_class2_instances = 0\n",
    "for i in range(total_instances):\n",
    "    for j in range(total_instances):\n",
    "        if instance2[j]==images[i]:\n",
    "            count_class2_instances=count_class2_instances+1\n",
    "\n",
    "\n",
    "instance3 = ['shine{}.jpg'.format(i) for i in range(total_instances)]\n",
    "count_class3_instances = 0\n",
    "for i in range(total_instances):\n",
    "    for j in range(total_instances):\n",
    "        if instance3[j]==images[i]:\n",
    "for class_ in os.listdir(images):\n",
    "\n",
    "    images = [os.path.join(dataset_dir, f) for f in os.listdir(dataset_dir) if os.path.isfile(os.path.join(dataset_dir, f))]\n",
    "    num_generated_files = 0\n",
    "    save_path = dataset_dir\n",
    "    while num_generated_files <= num_files_desired:\n",
    "        # random image from the folder\n",
    "        image_path = random.choice(images)\n",
    "        # read image as an two dimensional array of pixels\n",
    "        image_to_transform = sk.io.imread(image_path)\n",
    "        # random num of transformation to apply\n",
    "        num_transformations_to_apply = random.randint(1, len(available_transformations))\n",
    "\n",
    "        num_transformations = 0\n",
    "        transformed_image = None\n",
    "        \n",
    "        while num_transformations <= num_transformations_to_apply:\n",
    "            # random transformation to apply for a single image\n",
    "            key = random.choice(list(available_transformations))\n",
    "            transformed_image = available_transformations[key](image_to_transform)\n",
    "            num_transformations += 1\n",
    "            \n",
    "        \n",
    "        new_file_path = '%s/image_aug_%s.jpg' % (save_path, num_generated_files)\n",
    "\n",
    "        # write image to the disk\n",
    "        io.imsave(new_file_path, transformed_image)\n",
    "        num_generated_files += 1"
   ]
  },
  {
   "cell_type": "code",
   "execution_count": 53,
   "metadata": {},
   "outputs": [
    {
     "ename": "FileNotFoundError",
     "evalue": "[WinError 3] The system cannot find the path specified: 'weather-image-classification\\\\w'",
     "output_type": "error",
     "traceback": [
      "\u001b[1;31m---------------------------------------------------------------------------\u001b[0m",
      "\u001b[1;31mFileNotFoundError\u001b[0m                         Traceback (most recent call last)",
      "\u001b[1;32m<ipython-input-53-2c9535019f52>\u001b[0m in \u001b[0;36m<module>\u001b[1;34m\u001b[0m\n\u001b[0;32m      8\u001b[0m \u001b[1;32mfor\u001b[0m \u001b[0maug_classe\u001b[0m \u001b[1;32min\u001b[0m \u001b[0mdataset_dir\u001b[0m\u001b[1;33m:\u001b[0m\u001b[1;33m\u001b[0m\u001b[1;33m\u001b[0m\u001b[0m\n\u001b[0;32m      9\u001b[0m     \u001b[0mpathh\u001b[0m \u001b[1;33m=\u001b[0m \u001b[0mos\u001b[0m\u001b[1;33m.\u001b[0m\u001b[0mpath\u001b[0m\u001b[1;33m.\u001b[0m\u001b[0mjoin\u001b[0m\u001b[1;33m(\u001b[0m\u001b[0mdataset_dir\u001b[0m\u001b[1;33m,\u001b[0m \u001b[0maug_classe\u001b[0m\u001b[1;33m)\u001b[0m\u001b[1;33m\u001b[0m\u001b[1;33m\u001b[0m\u001b[0m\n\u001b[1;32m---> 10\u001b[1;33m     \u001b[0mimgs\u001b[0m \u001b[1;33m=\u001b[0m \u001b[1;33m[\u001b[0m\u001b[0mos\u001b[0m\u001b[1;33m.\u001b[0m\u001b[0mpath\u001b[0m\u001b[1;33m.\u001b[0m\u001b[0mjoin\u001b[0m\u001b[1;33m(\u001b[0m\u001b[0mpathh\u001b[0m\u001b[1;33m,\u001b[0m \u001b[0mf\u001b[0m\u001b[1;33m)\u001b[0m \u001b[1;32mfor\u001b[0m \u001b[0mf\u001b[0m \u001b[1;32min\u001b[0m \u001b[0mos\u001b[0m\u001b[1;33m.\u001b[0m\u001b[0mlistdir\u001b[0m\u001b[1;33m(\u001b[0m\u001b[0mpathh\u001b[0m\u001b[1;33m)\u001b[0m \u001b[1;32mif\u001b[0m \u001b[0mos\u001b[0m\u001b[1;33m.\u001b[0m\u001b[0mpath\u001b[0m\u001b[1;33m.\u001b[0m\u001b[0misfile\u001b[0m\u001b[1;33m(\u001b[0m\u001b[0mos\u001b[0m\u001b[1;33m.\u001b[0m\u001b[0mpath\u001b[0m\u001b[1;33m.\u001b[0m\u001b[0mjoin\u001b[0m\u001b[1;33m(\u001b[0m\u001b[0mpathh\u001b[0m\u001b[1;33m,\u001b[0m \u001b[0mf\u001b[0m\u001b[1;33m)\u001b[0m\u001b[1;33m)\u001b[0m\u001b[1;33m]\u001b[0m\u001b[1;33m\u001b[0m\u001b[1;33m\u001b[0m\u001b[0m\n\u001b[0m\u001b[0;32m     11\u001b[0m     \u001b[0maug_count_list\u001b[0m\u001b[1;33m.\u001b[0m\u001b[0mappend\u001b[0m\u001b[1;33m(\u001b[0m\u001b[0mlen\u001b[0m\u001b[1;33m(\u001b[0m\u001b[0mimgs\u001b[0m\u001b[1;33m)\u001b[0m\u001b[1;33m)\u001b[0m\u001b[1;33m\u001b[0m\u001b[1;33m\u001b[0m\u001b[0m\n\u001b[0;32m     12\u001b[0m \u001b[1;33m\u001b[0m\u001b[0m\n",
      "\u001b[1;31mFileNotFoundError\u001b[0m: [WinError 3] The system cannot find the path specified: 'weather-image-classification\\\\w'"
     ]
    }
   ],
   "source": [
    "'''\n",
    "7- Plot two graphs for original and after augmentation dataset in one plot for comparing.\n",
    "'''\n",
    "\n",
    "# Write your code here\n",
    "\n",
    "aug_count_list = []\n",
    "for aug_classe in dataset_dir:\n",
    "    pathh = os.path.join(dataset_dir, aug_classe)\n",
    "    imgs = [os.path.join(pathh, f) for f in os.listdir(pathh) if os.path.isfile(os.path.join(pathh, f))]\n",
    "    aug_count_list.append(len(imgs))\n",
    "\n",
    "index = np.arange(len(aug_classes))\n",
    "plt.figure(figsize=(20,10))\n",
    "plt.bar(aug_classes,aug_count_list)\n",
    "plt.xlabel('Image Classes',fontsize=15)\n",
    "plt.ylabel('Number of Images per class',fontsize=15)\n",
    "plt.xticks(index,aug_classes,rotation=0)\n",
    "plt.show()"
   ]
  },
  {
   "cell_type": "code",
   "execution_count": 70,
   "metadata": {},
   "outputs": [
    {
     "ename": "TypeError",
     "evalue": "'list' object cannot be interpreted as an integer",
     "output_type": "error",
     "traceback": [
      "\u001b[1;31m---------------------------------------------------------------------------\u001b[0m",
      "\u001b[1;31mTypeError\u001b[0m                                 Traceback (most recent call last)",
      "\u001b[1;32m<ipython-input-70-69066edb699b>\u001b[0m in \u001b[0;36m<module>\u001b[1;34m\u001b[0m\n\u001b[0;32m     23\u001b[0m \u001b[1;32mfor\u001b[0m \u001b[0mj\u001b[0m \u001b[1;32min\u001b[0m \u001b[0mrange\u001b[0m\u001b[1;33m(\u001b[0m\u001b[0mtotal_instances\u001b[0m\u001b[1;33m)\u001b[0m\u001b[1;33m:\u001b[0m\u001b[1;33m\u001b[0m\u001b[1;33m\u001b[0m\u001b[0m\n\u001b[0;32m     24\u001b[0m     \u001b[1;32mfor\u001b[0m \u001b[0mfname\u001b[0m \u001b[1;32min\u001b[0m \u001b[0mfnames\u001b[0m\u001b[1;33m:\u001b[0m\u001b[1;33m\u001b[0m\u001b[1;33m\u001b[0m\u001b[0m\n\u001b[1;32m---> 25\u001b[1;33m         \u001b[1;32mfor\u001b[0m \u001b[0mi\u001b[0m \u001b[1;32min\u001b[0m \u001b[0mrange\u001b[0m\u001b[1;33m(\u001b[0m\u001b[0mfnames\u001b[0m\u001b[1;33m)\u001b[0m\u001b[1;33m:\u001b[0m\u001b[1;33m\u001b[0m\u001b[1;33m\u001b[0m\u001b[0m\n\u001b[0m\u001b[0;32m     26\u001b[0m             \u001b[1;32mif\u001b[0m \u001b[0mfname\u001b[0m\u001b[1;33m[\u001b[0m\u001b[0mi\u001b[0m\u001b[1;33m]\u001b[0m\u001b[1;33m==\u001b[0m\u001b[0mimages\u001b[0m\u001b[1;33m[\u001b[0m\u001b[0mi\u001b[0m\u001b[1;33m]\u001b[0m\u001b[1;33m:\u001b[0m\u001b[1;33m\u001b[0m\u001b[1;33m\u001b[0m\u001b[0m\n\u001b[0;32m     27\u001b[0m                 \u001b[0misrc\u001b[0m \u001b[1;33m=\u001b[0m \u001b[0mos\u001b[0m\u001b[1;33m.\u001b[0m\u001b[0mpath\u001b[0m\u001b[1;33m.\u001b[0m\u001b[0mjoin\u001b[0m\u001b[1;33m(\u001b[0m\u001b[0msrc\u001b[0m\u001b[1;33m,\u001b[0m \u001b[0mfname\u001b[0m\u001b[1;33m)\u001b[0m\u001b[1;33m\u001b[0m\u001b[1;33m\u001b[0m\u001b[0m\n",
      "\u001b[1;31mTypeError\u001b[0m: 'list' object cannot be interpreted as an integer"
     ]
    }
   ],
   "source": [
    "'''\n",
    "8- Split the data into train (80%) and test (20%). Make sure to create seperate directories.\n",
    "'''\n",
    "\n",
    "# Write your code here\n",
    "new_train_test = os.path.join(dataset_dir,'new_train_test')\n",
    "if (not(os.path.exists(new_train_test))):\n",
    "    os.mkdir(new_train_test)\n",
    "\n",
    "new_train = os.path.join(new_train_test,'train')\n",
    "new_test = os.path.join(new_train_test,'test')\n",
    "new_validate = os.path.join(new_train_test,'validate')\n",
    "\n",
    "if (not(os.path.exists(new_train) and os.path.exists(new_test) and os.path.exists(new_validate))):\n",
    "    os.mkdir(new_train)\n",
    "    os.mkdir(new_test)    \n",
    "    os.mkdir(new_validate)\n",
    "    \n",
    "\n",
    "src = dataset_dir\n",
    "des = new_train\n",
    "fnames = ['rain{}.jpg'.format(i) for i in range(250)]\n",
    "for j in range(total_instances):\n",
    "    for fname in fnames:\n",
    "        for i in range(fnames):\n",
    "            if fname[i]==images[i]:\n",
    "                isrc = os.path.join(src, fname)\n",
    "                ides = os.path.join(des, fname)\n",
    "                shutil.copy(isrc,ides)\n",
    "\n",
    "            \n",
    "fnames = ['cloudy{}.jpg'.format(i) for i in range(250)]\n",
    "for j in range(total_instances):\n",
    "    for fname in fnames:\n",
    "        for i in range(fnames):\n",
    "            if fname[i]==images[i]:\n",
    "                isrc = os.path.join(src, fname)\n",
    "                ides = os.path.join(des, fname)\n",
    "                shutil.copy(isrc,ides)\n",
    "            \n",
    "fnames = ['shine{}.jpg'.format(i) for i in range(250)]\n",
    "for j in range(total_instances):\n",
    "    for fname in fnames:\n",
    "        for i in range(fnames):\n",
    "            if fname[i]==images[i]:\n",
    "                isrc = os.path.join(src, fname)\n",
    "                ides = os.path.join(des, fname)\n",
    "                shutil.copy(isrc,ides)            \n",
    "            \n",
    "fnames = ['sunrise{}.jpg'.format(i) for i in range(250)]\n",
    "for j in range(total_instances):\n",
    "    for fname in fnames:\n",
    "        for i in range(fnames):\n",
    "            if fname[i]==images[i]:\n",
    "                isrc = os.path.join(src, fname)\n",
    "                ides = os.path.join(des, fname)\n",
    "                shutil.copy(isrc,ides)            \n",
    "            \n",
    "            \n",
    "            \n",
    "            \n",
    "            \n",
    "\n",
    "src = dataset_dir\n",
    "des = new_test\n",
    "fnames = ['rain{}.jpg'.format(i) for i in range(50)]\n",
    "for j in range(total_instances):\n",
    "    for fname in fnames:\n",
    "        for i in range(fnames):\n",
    "            if fname[i]==images[i]:\n",
    "                isrc = os.path.join(src, fname)\n",
    "                ides = os.path.join(des, fname)\n",
    "                shutil.copy(isrc,ides)\n",
    "            \n",
    "fnames = ['cloudy{}.jpg'.format(i) for i in range(50)]\n",
    "for j in range(total_instances):\n",
    "    for fname in fnames:\n",
    "        for i in range(fnames):\n",
    "            if fname[i]==images[i]:\n",
    "                isrc = os.path.join(src, fname)\n",
    "                ides = os.path.join(des, fname)\n",
    "                shutil.copy(isrc,ides)\n",
    "                \n",
    "                \n",
    "fnames = ['shine{}.jpg'.format(i) for i in range(50)]\n",
    "for j in range(total_instances):\n",
    "    for fname in fnames:\n",
    "        for i in range(fnames):\n",
    "            if fname[i]==images[i]:\n",
    "                isrc = os.path.join(src, fname)\n",
    "                ides = os.path.join(des, fname)\n",
    "                shutil.copy(isrc,ides)            \n",
    "            \n",
    "fnames = ['sunrise{}.jpg'.format(i) for i in range(50)]\n",
    "for j in range(total_instances):\n",
    "    for fname in fnames:\n",
    "        for i in range(fnames):\n",
    "            if fname[i]==images[i]:\n",
    "                isrc = os.path.join(src, fname)\n",
    "                ides = os.path.join(des, fname)\n",
    "                shutil.copy(isrc,ides)            \n",
    "            \n",
    "            \n",
    "            \n",
    "            \n",
    "            \n",
    "            "
   ]
  },
  {
   "cell_type": "code",
   "execution_count": 55,
   "metadata": {},
   "outputs": [
    {
     "data": {
      "text/plain": [
       "'\\n9- Apply CNN model ONLY with following configuration:\\n    - Input Size: (150, 150, 3)\\n    - Hidden Layers: 3\\n    - Neurons each layer (128, 64, 32)\\n    - Activation Function each layer: ReLU\\n    - Filter Size: (3, 3) \\n    - Activation function on output layer: Decide and use???\\n'"
      ]
     },
     "execution_count": 55,
     "metadata": {},
     "output_type": "execute_result"
    }
   ],
   "source": [
    "'''\n",
    "9- Apply CNN model ONLY with following configuration:\n",
    "    - Input Size: (150, 150, 3)\n",
    "    - Hidden Layers: 3\n",
    "    - Neurons each layer (128, 64, 32)\n",
    "    - Activation Function each layer: ReLU\n",
    "    - Filter Size: (3, 3) \n",
    "    - Activation function on output layer: Decide and use???\n",
    "'''\n",
    "\n",
    "# Write your code here\n",
    "model = models.Sequential()\n",
    "model.add(layers.Conv2D(32, (3,3), activation='relu', input_shape=(150,150,3)))\n",
    "model.add(layers.MaxPooling2D((2,2)))\n",
    "model.add(layers.Conv2D(64, (3, 3), activation='relu'))\n",
    "model.add(layers.MaxPooling2D((2, 2)))\n",
    "model.add(layers.Conv2D(128, (3, 3), activation='relu'))\n",
    "model.add(layers.MaxPooling2D((2, 2)))\n",
    "model.add(layers.Conv2D(128, (3, 3), activation='relu'))\n",
    "model.add(layers.MaxPooling2D((2, 2)))\n",
    "model.add(layers.Flatten())\n",
    "model.add(layers.Dense(512, activation='relu'))\n",
    "model.add(layers.Dense(11, activation='softmax'))"
   ]
  },
  {
   "cell_type": "code",
   "execution_count": null,
   "metadata": {},
   "outputs": [],
   "source": [
    "'''\n",
    "10- Compile Model (use \"adam\" as optimizer, \"categorical_crossentropy\" as loss, \"acc\" as metrics) \n",
    "'''\n",
    "\n",
    "# Write your code here\n",
    "model.compile(loss='categorical_crossentropy',\n",
    "              optimizer='rmsprop',\n",
    "              metrics=['acc'])\n"
   ]
  },
  {
   "cell_type": "code",
   "execution_count": 65,
   "metadata": {},
   "outputs": [
    {
     "name": "stdout",
     "output_type": "stream",
     "text": [
      "Found 0 images belonging to 0 classes.\n",
      "Found 0 images belonging to 0 classes.\n"
     ]
    },
    {
     "ename": "NameError",
     "evalue": "name 'model' is not defined",
     "output_type": "error",
     "traceback": [
      "\u001b[1;31m---------------------------------------------------------------------------\u001b[0m",
      "\u001b[1;31mNameError\u001b[0m                                 Traceback (most recent call last)",
      "\u001b[1;32m<ipython-input-65-01f1b245969e>\u001b[0m in \u001b[0;36m<module>\u001b[1;34m\u001b[0m\n\u001b[0;32m     23\u001b[0m         class_mode='categorical')\n\u001b[0;32m     24\u001b[0m \u001b[1;33m\u001b[0m\u001b[0m\n\u001b[1;32m---> 25\u001b[1;33m history = model.fit_generator(\n\u001b[0m\u001b[0;32m     26\u001b[0m       \u001b[0mtrain_generator\u001b[0m\u001b[1;33m,\u001b[0m\u001b[1;33m\u001b[0m\u001b[1;33m\u001b[0m\u001b[0m\n\u001b[0;32m     27\u001b[0m       \u001b[0msteps_per_epoch\u001b[0m\u001b[1;33m=\u001b[0m\u001b[1;36m50\u001b[0m\u001b[1;33m,\u001b[0m\u001b[1;33m\u001b[0m\u001b[1;33m\u001b[0m\u001b[0m\n",
      "\u001b[1;31mNameError\u001b[0m: name 'model' is not defined"
     ]
    }
   ],
   "source": [
    "'''\n",
    "11- Train and test model on 30 epochs\n",
    "'''\n",
    "\n",
    "# Write your code here\n",
    "\n",
    "train_datagen = ImageDataGenerator(rescale=1./255)\n",
    "test_datagen = ImageDataGenerator(rescale=1./255)\n",
    "\n",
    "train_generator = train_datagen.flow_from_directory(\n",
    "        # This is the target directory\n",
    "        new_train,\n",
    "        # All images will be resized to 150x150\n",
    "        target_size=(150, 150),\n",
    "        batch_size=10,\n",
    "        # Since we use categorical_crossentropy loss, we need categorical labels\n",
    "        class_mode='categorical')\n",
    "\n",
    "validation_generator = test_datagen.flow_from_directory(\n",
    "        new_validate,\n",
    "        target_size=(150, 150),\n",
    "        batch_size=10,\n",
    "        class_mode='categorical')\n",
    "\n",
    "history = model.fit_generator(\n",
    "      train_generator,\n",
    "      steps_per_epoch=50,\n",
    "      epochs=30,\n",
    "      validation_data=validation_generator,\n",
    "      validation_steps=30)\n"
   ]
  },
  {
   "cell_type": "code",
   "execution_count": 66,
   "metadata": {},
   "outputs": [
    {
     "ename": "NameError",
     "evalue": "name 'history' is not defined",
     "output_type": "error",
     "traceback": [
      "\u001b[1;31m---------------------------------------------------------------------------\u001b[0m",
      "\u001b[1;31mNameError\u001b[0m                                 Traceback (most recent call last)",
      "\u001b[1;32m<ipython-input-66-63eed473c8d1>\u001b[0m in \u001b[0;36m<module>\u001b[1;34m\u001b[0m\n\u001b[0;32m      4\u001b[0m \u001b[1;33m\u001b[0m\u001b[0m\n\u001b[0;32m      5\u001b[0m \u001b[1;31m# Write your code here\u001b[0m\u001b[1;33m\u001b[0m\u001b[1;33m\u001b[0m\u001b[1;33m\u001b[0m\u001b[0m\n\u001b[1;32m----> 6\u001b[1;33m \u001b[0macc\u001b[0m \u001b[1;33m=\u001b[0m \u001b[0mhistory\u001b[0m\u001b[1;33m.\u001b[0m\u001b[0mhistory\u001b[0m\u001b[1;33m[\u001b[0m\u001b[1;34m'acc'\u001b[0m\u001b[1;33m]\u001b[0m\u001b[1;33m\u001b[0m\u001b[1;33m\u001b[0m\u001b[0m\n\u001b[0m\u001b[0;32m      7\u001b[0m \u001b[0mval_acc\u001b[0m \u001b[1;33m=\u001b[0m \u001b[0mhistory\u001b[0m\u001b[1;33m.\u001b[0m\u001b[0mhistory\u001b[0m\u001b[1;33m[\u001b[0m\u001b[1;34m'val_acc'\u001b[0m\u001b[1;33m]\u001b[0m\u001b[1;33m\u001b[0m\u001b[1;33m\u001b[0m\u001b[0m\n\u001b[0;32m      8\u001b[0m \u001b[0mloss\u001b[0m \u001b[1;33m=\u001b[0m \u001b[0mhistory\u001b[0m\u001b[1;33m.\u001b[0m\u001b[0mhistory\u001b[0m\u001b[1;33m[\u001b[0m\u001b[1;34m'loss'\u001b[0m\u001b[1;33m]\u001b[0m\u001b[1;33m\u001b[0m\u001b[1;33m\u001b[0m\u001b[0m\n",
      "\u001b[1;31mNameError\u001b[0m: name 'history' is not defined"
     ]
    }
   ],
   "source": [
    "'''\n",
    "12- Plot graph for train vs. test accuracy/loss\n",
    "'''\n",
    "\n",
    "# Write your code here\n",
    "acc = history.history['acc']\n",
    "val_acc = history.history['val_acc']\n",
    "loss = history.history['loss']\n",
    "val_loss = history.history['val_loss']\n",
    "\n",
    "epochs = range(len(acc))\n",
    "\n",
    "plt.plot(epochs, acc, 'bo', label='Training acc')\n",
    "plt.plot(epochs, val_acc, 'b', label='Validation_acc')\n",
    "plt.title('Training and validation accuracy')\n",
    "plt.legend()\n",
    "\n",
    "plt.figure()\n",
    "\n",
    "plt.plot(epochs, loss, 'bo', label='Training loss')\n",
    "plt.plot(epochs, val_loss, 'b', label='Validation loss')\n",
    "plt.title('Training and validation loss')\n",
    "plt.legend()\n",
    "\n",
    "plt.show()\n"
   ]
  },
  {
   "cell_type": "code",
   "execution_count": null,
   "metadata": {},
   "outputs": [],
   "source": [
    "'''\n",
    "13- Observe graphs and comment about the model in terms of underfitting, overfitting and well trained model. \n",
    "'''\n",
    "\n",
    "# Write your code here\n",
    "#if above code works I surely comment but now 'M speechless\n"
   ]
  },
  {
   "cell_type": "code",
   "execution_count": null,
   "metadata": {},
   "outputs": [],
   "source": [
    "'''\n",
    "14- Perform Experiments (Bonus Task)\n",
    "    - Change number of layers/neurons\n",
    "    - Change optimizer function as rmsprop\n",
    "    - Train and compare graphs with each new experiment\n",
    "'''\n",
    "\n",
    "# Write your code here\n"
   ]
  }
 ],
 "metadata": {
  "kernelspec": {
   "display_name": "Python 3",
   "language": "python",
   "name": "python3"
  },
  "language_info": {
   "codemirror_mode": {
    "name": "ipython",
    "version": 3
   },
   "file_extension": ".py",
   "mimetype": "text/x-python",
   "name": "python",
   "nbconvert_exporter": "python",
   "pygments_lexer": "ipython3",
   "version": "3.7.1"
  }
 },
 "nbformat": 4,
 "nbformat_minor": 2
}
