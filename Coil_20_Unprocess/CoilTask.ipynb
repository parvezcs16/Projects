{
 "cells": [
  {
   "cell_type": "markdown",
   "metadata": {},
   "source": [
    "# Import \n",
    "    1)keras\n",
    "    2)os\n",
    "    3)shutil"
   ]
  },
  {
   "cell_type": "code",
   "execution_count": 3,
   "metadata": {},
   "outputs": [
    {
     "name": "stderr",
     "output_type": "stream",
     "text": [
      "Using TensorFlow backend.\n"
     ]
    }
   ],
   "source": [
    "import keras\n",
    "import os\n",
    "import shutil"
   ]
  },
  {
   "cell_type": "code",
   "execution_count": 4,
   "metadata": {},
   "outputs": [],
   "source": [
    "org_dir = 'coil-20-unproc'\n",
    "\n",
    "process_dir= 'coil20_data_proc'\n",
    "if not ((os.path.exists(process_dir))):\n",
    "    os.mkdir(process_dir)\n",
    "\n"
   ]
  },
  {
   "cell_type": "markdown",
   "metadata": {},
   "source": [
    "# Create directories for the train, test, and validate the data inside of coil20_data_proc directory"
   ]
  },
  {
   "cell_type": "code",
   "execution_count": 5,
   "metadata": {},
   "outputs": [],
   "source": [
    "train_dir = os.path.join(process_dir,'train')\n",
    "os.mkdir(train_dir)\n",
    "\n",
    "test_dir = os.path.join(process_dir,'test')\n",
    "os.mkdir(test_dir)\n",
    "\n",
    "val_dir = os.path.join(process_dir,'val')\n",
    "os.mkdir(val_dir)"
   ]
  },
  {
   "cell_type": "markdown",
   "metadata": {},
   "source": [
    "# Create Directories for different types of objects in train directory"
   ]
  },
  {
   "cell_type": "code",
   "execution_count": 6,
   "metadata": {},
   "outputs": [],
   "source": [
    "#directory for object 1.\n",
    "train_dir_obj1 = os.path.join(train_dir,'object1')\n",
    "os.mkdir(train_dir_obj1)\n",
    "\n",
    "#directory for object 2.\n",
    "train_dir_obj2 = os.path.join(train_dir,'object2')\n",
    "os.mkdir(train_dir_obj2)\n",
    "\n",
    "#directory for object 3.\n",
    "train_dir_obj3 = os.path.join(train_dir,'object3')\n",
    "os.mkdir(train_dir_obj3)\n",
    "\n",
    "#directory for object 4.\n",
    "train_dir_obj4 = os.path.join(train_dir,'object4')\n",
    "os.mkdir(train_dir_obj4)\n",
    "\n",
    "#directory for object 5.\n",
    "train_dir_obj5 = os.path.join(train_dir,'object5')\n",
    "os.mkdir(train_dir_obj5)"
   ]
  },
  {
   "cell_type": "markdown",
   "metadata": {},
   "source": [
    "#Directories for different types of objects in test directory"
   ]
  },
  {
   "cell_type": "code",
   "execution_count": 7,
   "metadata": {},
   "outputs": [],
   "source": [
    "#directory for object 1.\n",
    "test_dir_obj1 = os.path.join(test_dir,'object1')\n",
    "os.mkdir(test_dir_obj1)\n",
    "\n",
    "#directory for object 2.\n",
    "test_dir_obj2 = os.path.join(test_dir,'object2')\n",
    "os.mkdir(test_dir_obj2)\n",
    "\n",
    "#directory for object 3.\n",
    "test_dir_obj3 = os.path.join(test_dir,'object3')\n",
    "os.mkdir(test_dir_obj3)\n",
    "\n",
    "#directory for object 4.\n",
    "test_dir_obj4 = os.path.join(test_dir,'object4')\n",
    "os.mkdir(test_dir_obj4)\n",
    "\n",
    "#directory for object 5.\n",
    "test_dir_obj5 = os.path.join(test_dir,'object5')\n",
    "os.mkdir(test_dir_obj5)\n"
   ]
  },
  {
   "cell_type": "markdown",
   "metadata": {},
   "source": [
    "# Create Directories for different types of objects in val(Validate) directory"
   ]
  },
  {
   "cell_type": "code",
   "execution_count": 15,
   "metadata": {},
   "outputs": [
    {
     "ename": "FileExistsError",
     "evalue": "[WinError 183] Cannot create a file when that file already exists: 'coil20_data_proc\\\\val\\\\object1'",
     "output_type": "error",
     "traceback": [
      "\u001b[1;31m---------------------------------------------------------------------------\u001b[0m",
      "\u001b[1;31mFileExistsError\u001b[0m                           Traceback (most recent call last)",
      "\u001b[1;32m<ipython-input-15-89d9164e70ef>\u001b[0m in \u001b[0;36m<module>\u001b[1;34m\u001b[0m\n\u001b[0;32m      1\u001b[0m \u001b[1;31m#directory for object 1.\u001b[0m\u001b[1;33m\u001b[0m\u001b[1;33m\u001b[0m\u001b[1;33m\u001b[0m\u001b[0m\n\u001b[0;32m      2\u001b[0m \u001b[0mval_dir_obj1\u001b[0m \u001b[1;33m=\u001b[0m \u001b[0mos\u001b[0m\u001b[1;33m.\u001b[0m\u001b[0mpath\u001b[0m\u001b[1;33m.\u001b[0m\u001b[0mjoin\u001b[0m\u001b[1;33m(\u001b[0m\u001b[0mval_dir\u001b[0m\u001b[1;33m,\u001b[0m\u001b[1;34m'object1'\u001b[0m\u001b[1;33m)\u001b[0m\u001b[1;33m\u001b[0m\u001b[1;33m\u001b[0m\u001b[0m\n\u001b[1;32m----> 3\u001b[1;33m \u001b[0mos\u001b[0m\u001b[1;33m.\u001b[0m\u001b[0mmkdir\u001b[0m\u001b[1;33m(\u001b[0m\u001b[0mval_dir_obj1\u001b[0m\u001b[1;33m)\u001b[0m\u001b[1;33m\u001b[0m\u001b[1;33m\u001b[0m\u001b[0m\n\u001b[0m\u001b[0;32m      4\u001b[0m \u001b[1;33m\u001b[0m\u001b[0m\n\u001b[0;32m      5\u001b[0m \u001b[1;31m#directory for object 2.\u001b[0m\u001b[1;33m\u001b[0m\u001b[1;33m\u001b[0m\u001b[1;33m\u001b[0m\u001b[0m\n",
      "\u001b[1;31mFileExistsError\u001b[0m: [WinError 183] Cannot create a file when that file already exists: 'coil20_data_proc\\\\val\\\\object1'"
     ]
    }
   ],
   "source": [
    "#directory for object 1.\n",
    "val_dir_obj1 = os.path.join(val_dir,'object1')\n",
    "os.mkdir(val_dir_obj1)\n",
    "\n",
    "#directory for object 2.\n",
    "val_dir_obj2 = os.path.join(val_dir,'object2')\n",
    "os.mkdir(val_dir_obj2)\n",
    "\n",
    "#directory for object 3.\n",
    "val_dir_obj3 = os.path.join(val_dir,'object3')\n",
    "os.mkdir(val_dir_obj3)\n",
    "\n",
    "#directory for object 4.\n",
    "val_dir_obj4 = os.path.join(val_dir,'object4')\n",
    "os.mkdir(val_dir_obj4)\n",
    "\n",
    "\n",
    "\n"
   ]
  },
  {
   "cell_type": "code",
   "execution_count": 16,
   "metadata": {},
   "outputs": [],
   "source": [
    "    \n",
    "#directory for object 5.\n",
    "val_dir_obj5 = os.path.join(val_dir,'object5')\n",
    "os.mkdir(val_dir_obj5)"
   ]
  },
  {
   "cell_type": "markdown",
   "metadata": {},
   "source": [
    "# Copy images for object#01 from original to Process_data directory"
   ]
  },
  {
   "cell_type": "code",
   "execution_count": 18,
   "metadata": {},
   "outputs": [],
   "source": [
    "fnames = ['obj1__{}.png'.format(i) for i in range(55)]\n",
    "for fname in fnames:\n",
    "    src = os.path.join(org_dir,fname)\n",
    "    dest = os.path.join(train_dir_obj2,fname)\n",
    "    shutil.copy(src,dest)\n",
    "\n",
    "fnames = ['obj1__{}.png'.format(i) for i in range(55,64)]\n",
    "for fname in fnames:\n",
    "    src = os.path.join(org_dir,fname)\n",
    "    dest = os.path.join(test_dir_obj2,fname)\n",
    "    shutil.copy(src,dest)\n",
    "\n",
    "fnames = ['obj1__{}.png'.format(i) for i in range(64,72)]\n",
    "for fname in fnames:\n",
    "    src = os.path.join(org_dir,fname)\n",
    "    dest = os.path.join(val_dir_obj2,fname)\n",
    "    shutil.copy(src,dest)\n",
    "    \n",
    "    "
   ]
  },
  {
   "cell_type": "markdown",
   "metadata": {},
   "source": [
    "# Copy images for object#02 from original to Process_data directory"
   ]
  },
  {
   "cell_type": "code",
   "execution_count": 19,
   "metadata": {},
   "outputs": [],
   "source": [
    "fnames = ['obj2__{}.png'.format(i) for i in range(55)]\n",
    "for fname in fnames:\n",
    "    src = os.path.join(org_dir,fname)\n",
    "    dest = os.path.join(train_dir_obj1,fname)\n",
    "    shutil.copy(src,dest)\n",
    "\n",
    "fnames = ['obj2__{}.png'.format(i) for i in range(55,64)]\n",
    "for fname in fnames:\n",
    "    src = os.path.join(org_dir,fname)\n",
    "    dest = os.path.join(test_dir_obj1,fname)\n",
    "    shutil.copy(src,dest)\n",
    "\n",
    "fnames = ['obj2__{}.png'.format(i) for i in range(64,72)]\n",
    "for fname in fnames:\n",
    "    src = os.path.join(org_dir,fname)\n",
    "    dest = os.path.join(val_dir_obj1,fname)\n",
    "    shutil.copy(src,dest)"
   ]
  },
  {
   "cell_type": "markdown",
   "metadata": {},
   "source": [
    "# Copy images for object#03 from original to Process_data directory"
   ]
  },
  {
   "cell_type": "code",
   "execution_count": 20,
   "metadata": {},
   "outputs": [],
   "source": [
    "fnames = ['obj3__{}.png'.format(i) for i in range(55)]\n",
    "for fname in fnames:\n",
    "    src = os.path.join(org_dir,fname)\n",
    "    dest = os.path.join(train_dir_obj3,fname)\n",
    "    shutil.copy(src,dest)\n",
    "\n",
    "fnames = ['obj3__{}.png'.format(i) for i in range(55,64)]\n",
    "for fname in fnames:\n",
    "    src = os.path.join(org_dir,fname)\n",
    "    dest = os.path.join(test_dir_obj3,fname)\n",
    "    shutil.copy(src,dest)\n",
    "    \n",
    "fnames = ['obj3__{}.png'.format(i) for i in range(64,72)]\n",
    "for fname in fnames:\n",
    "    src = os.path.join(org_dir,fname)\n",
    "    dest = os.path.join(val_dir_obj3,fname)\n",
    "    shutil.copy(src,dest)\n",
    "\n"
   ]
  },
  {
   "cell_type": "markdown",
   "metadata": {},
   "source": [
    "# Copy images for object#04 from original to Process_data directory"
   ]
  },
  {
   "cell_type": "code",
   "execution_count": 21,
   "metadata": {},
   "outputs": [],
   "source": [
    "fnames = ['obj4__{}.png'.format(i) for i in range(55)]\n",
    "for fname in fnames:\n",
    "    src = os.path.join(org_dir,fname)\n",
    "    dest = os.path.join(train_dir_obj4,fname)\n",
    "    shutil.copy(src,dest)\n",
    "\n",
    "fnames = ['obj4__{}.png'.format(i) for i in range(55,64)]\n",
    "for fname in fnames:\n",
    "    src = os.path.join(org_dir,fname)\n",
    "    dest = os.path.join(test_dir_obj4,fname)\n",
    "    shutil.copy(src,dest)\n",
    "\n",
    "fnames = ['obj4__{}.png'.format(i) for i in range(64,72)]\n",
    "for fname in fnames:\n",
    "    src = os.path.join(org_dir,fname)\n",
    "    dest = os.path.join(val_dir_obj4,fname)\n",
    "    shutil.copy(src,dest)\n"
   ]
  },
  {
   "cell_type": "markdown",
   "metadata": {},
   "source": [
    "# Copy images for object#05 from original to Process_data directory"
   ]
  },
  {
   "cell_type": "code",
   "execution_count": 22,
   "metadata": {},
   "outputs": [],
   "source": [
    "fnames = ['obj5__{}.png'.format(i) for i in range(55)]\n",
    "for fname in fnames:\n",
    "    src = os.path.join(org_dir,fname)\n",
    "    dest = os.path.join(train_dir_obj5,fname)\n",
    "    shutil.copy(src,dest)\n",
    "\n",
    "fnames = ['obj5__{}.png'.format(i) for i in range(55,64)]\n",
    "for fname in fnames:\n",
    "    src = os.path.join(org_dir,fname)\n",
    "    dest = os.path.join(test_dir_obj5,fname)\n",
    "    shutil.copy(src,dest)\n",
    "\n",
    "fnames = ['obj5__{}.png'.format(i) for i in range(64,72)]\n",
    "for fname in fnames:\n",
    "    src = os.path.join(org_dir,fname)\n",
    "    dest = os.path.join(val_dir_obj5,fname)\n",
    "    shutil.copy(src,dest)\n"
   ]
  },
  {
   "cell_type": "markdown",
   "metadata": {},
   "source": [
    "# Create Sequential Model for training and testing \n"
   ]
  },
  {
   "cell_type": "code",
   "execution_count": 23,
   "metadata": {},
   "outputs": [
    {
     "name": "stdout",
     "output_type": "stream",
     "text": [
      "WARNING:tensorflow:From C:\\Users\\dell\\Anaconda3\\lib\\site-packages\\tensorflow\\python\\framework\\op_def_library.py:263: colocate_with (from tensorflow.python.framework.ops) is deprecated and will be removed in a future version.\n",
      "Instructions for updating:\n",
      "Colocations handled automatically by placer.\n",
      "_________________________________________________________________\n",
      "Layer (type)                 Output Shape              Param #   \n",
      "=================================================================\n",
      "conv2d_1 (Conv2D)            (None, 148, 148, 32)      896       \n",
      "_________________________________________________________________\n",
      "max_pooling2d_1 (MaxPooling2 (None, 74, 74, 32)        0         \n",
      "_________________________________________________________________\n",
      "conv2d_2 (Conv2D)            (None, 72, 72, 64)        18496     \n",
      "_________________________________________________________________\n",
      "max_pooling2d_2 (MaxPooling2 (None, 36, 36, 64)        0         \n",
      "_________________________________________________________________\n",
      "conv2d_3 (Conv2D)            (None, 34, 34, 128)       73856     \n",
      "_________________________________________________________________\n",
      "max_pooling2d_3 (MaxPooling2 (None, 17, 17, 128)       0         \n",
      "_________________________________________________________________\n",
      "conv2d_4 (Conv2D)            (None, 15, 15, 128)       147584    \n",
      "_________________________________________________________________\n",
      "max_pooling2d_4 (MaxPooling2 (None, 7, 7, 128)         0         \n",
      "_________________________________________________________________\n",
      "flatten_1 (Flatten)          (None, 6272)              0         \n",
      "_________________________________________________________________\n",
      "dense_1 (Dense)              (None, 512)               3211776   \n",
      "_________________________________________________________________\n",
      "dense_2 (Dense)              (None, 5)                 2565      \n",
      "=================================================================\n",
      "Total params: 3,455,173\n",
      "Trainable params: 3,455,173\n",
      "Non-trainable params: 0\n",
      "_________________________________________________________________\n"
     ]
    }
   ],
   "source": [
    "from keras import layers,models\n",
    "\n",
    "model = models.Sequential()\n",
    "model.add(layers.Conv2D(32, (3,3), activation='relu', input_shape=(150,150,3)))\n",
    "model.add(layers.MaxPooling2D((2,2)))\n",
    "model.add(layers.Conv2D(64, (3, 3), activation='relu'))\n",
    "model.add(layers.MaxPooling2D((2, 2)))\n",
    "model.add(layers.Conv2D(128, (3, 3), activation='relu'))\n",
    "model.add(layers.MaxPooling2D((2, 2)))\n",
    "model.add(layers.Conv2D(128, (3, 3), activation='relu'))\n",
    "model.add(layers.MaxPooling2D((2, 2)))\n",
    "model.add(layers.Flatten())\n",
    "model.add(layers.Dense(512, activation='relu'))\n",
    "model.add(layers.Dense(5, activation='softmax'))\n",
    "\n",
    "#Model with above attributes\n",
    "model.summary()"
   ]
  },
  {
   "cell_type": "code",
   "execution_count": 24,
   "metadata": {},
   "outputs": [],
   "source": [
    "from keras import optimizers\n",
    "\n",
    "model.compile(loss='categorical_crossentropy',\n",
    "              optimizer='rmsprop',#optimizers.RMSprop(lr=1e-4),\n",
    "              metrics=['acc'])"
   ]
  },
  {
   "cell_type": "markdown",
   "metadata": {},
   "source": [
    "# Generate data for training and testing"
   ]
  },
  {
   "cell_type": "code",
   "execution_count": 57,
   "metadata": {},
   "outputs": [
    {
     "name": "stdout",
     "output_type": "stream",
     "text": [
      "Found 275 images belonging to 5 classes.\n",
      "Found 40 images belonging to 5 classes.\n"
     ]
    }
   ],
   "source": [
    "from keras.preprocessing.image import ImageDataGenerator\n",
    "\n",
    "# All images will be rescaled by 1./255\n",
    "train_datagen = ImageDataGenerator(rescale=1./255)\n",
    "test_datagen = ImageDataGenerator(rescale=1./255)\n",
    "\n",
    "train_generator = train_datagen.flow_from_directory(train_dir,\n",
    "        target_size=(150, 150),\n",
    "        batch_size=10,\n",
    "        class_mode='categorical')\n",
    "\n",
    "validation_generator = test_datagen.flow_from_directory(\n",
    "        val_dir,\n",
    "        target_size=(150, 150),\n",
    "        batch_size=10,\n",
    "        class_mode='categorical')"
   ]
  },
  {
   "cell_type": "markdown",
   "metadata": {},
   "source": [
    "# Fit the Model"
   ]
  },
  {
   "cell_type": "code",
   "execution_count": 58,
   "metadata": {},
   "outputs": [
    {
     "name": "stdout",
     "output_type": "stream",
     "text": [
      "Epoch 1/5\n",
      "5/5 [==============================] - 2s 455ms/step - loss: 6.6822e-04 - acc: 1.0000 - val_loss: 0.0014 - val_acc: 1.0000\n",
      "Epoch 2/5\n",
      "5/5 [==============================] - 2s 408ms/step - loss: 2.3326e-04 - acc: 1.0000 - val_loss: 0.0011 - val_acc: 1.0000\n",
      "Epoch 3/5\n",
      "5/5 [==============================] - 2s 411ms/step - loss: 1.9540e-04 - acc: 1.0000 - val_loss: 0.0010 - val_acc: 1.0000\n",
      "Epoch 4/5\n",
      "5/5 [==============================] - 2s 414ms/step - loss: 1.8032e-04 - acc: 1.0000 - val_loss: 3.3441e-04 - val_acc: 1.0000\n",
      "Epoch 5/5\n",
      "5/5 [==============================] - 2s 413ms/step - loss: 1.7579e-04 - acc: 1.0000 - val_loss: 8.9753e-04 - val_acc: 1.0000\n"
     ]
    }
   ],
   "source": [
    "history = model.fit_generator(\n",
    "      train_generator,\n",
    "      steps_per_epoch=5,\n",
    "      epochs=5,\n",
    "      validation_data=validation_generator,\n",
    "      validation_steps=2)"
   ]
  },
  {
   "cell_type": "code",
   "execution_count": 59,
   "metadata": {},
   "outputs": [],
   "source": [
    "model.save('objects.h5')"
   ]
  },
  {
   "cell_type": "markdown",
   "metadata": {},
   "source": [
    "# Plot the Training and validation accuracy and Loss"
   ]
  },
  {
   "cell_type": "code",
   "execution_count": 60,
   "metadata": {},
   "outputs": [
    {
     "data": {
      "image/png": "[encoded data removed]",
      "text/plain": [
       "<Figure size 432x288 with 1 Axes>"
      ]
     },
     "metadata": {
      "needs_background": "light"
     },
     "output_type": "display_data"
    },
    {
     "data": {
      "image/png": "[encoded data removed]",
      "text/plain": [
       "<Figure size 432x288 with 1 Axes>"
      ]
     },
     "metadata": {
      "needs_background": "light"
     },
     "output_type": "display_data"
    }
   ],
   "source": [
    "import matplotlib.pyplot as plt\n",
    "\n",
    "acc = history.history['acc']\n",
    "val_acc = history.history['val_acc']\n",
    "loss = history.history['loss']\n",
    "val_loss = history.history['val_loss']\n",
    "\n",
    "epochs = range(len(acc))\n",
    "\n",
    "plt.plot(epochs, acc, 'bo', label='Training acc')\n",
    "plt.plot(epochs, val_acc, 'b', label='Validation_acc')\n",
    "plt.title('Training and validation accuracy')\n",
    "plt.legend()\n",
    "\n",
    "plt.figure()\n",
    "\n",
    "plt.plot(epochs, loss, 'bo', label='Training loss')\n",
    "plt.plot(epochs, val_loss, 'b', label='Validation loss')\n",
    "plt.title('Training and validation loss')\n",
    "plt.legend()\n",
    "\n",
    "plt.show()"
   ]
  },
  {
   "cell_type": "markdown",
   "metadata": {},
   "source": [
    "# Predicting model by Loading  objects.h5"
   ]
  },
  {
   "cell_type": "code",
   "execution_count": 76,
   "metadata": {},
   "outputs": [
    {
     "name": "stdout",
     "output_type": "stream",
     "text": [
      "Prediction is :  100.0 %\n"
     ]
    }
   ],
   "source": [
    "from tensorflow.keras.models import load_model\n",
    "import numpy as np\n",
    "#import cv2\n",
    "import os\n",
    "from keras.preprocessing import image\n",
    "\n",
    "classifier = load_model('objects.h5')\n",
    "\n",
    "img_width, img_height = 150, 150\n",
    "single_img = os.path.join(test_dir_obj1,'obj2__62.png')\n",
    "sample = image.load_img(single_img, target_size = (img_width, img_height))\n",
    "sample = image.img_to_array(sample)\n",
    "sample = np.expand_dims(sample, axis = 0)\n",
    "\n",
    "prediction = classifier.predict(sample, batch_size=1)\n",
    "\n",
    "print(\"Prediction is : \",prediction[0][0]*100,\"%\")\n"
   ]
  },
  {
   "cell_type": "code",
   "execution_count": null,
   "metadata": {},
   "outputs": [],
   "source": []
  }
 ],
 "metadata": {
  "kernelspec": {
   "display_name": "Python 3",
   "language": "python",
   "name": "python3"
  },
  "language_info": {
   "codemirror_mode": {
    "name": "ipython",
    "version": 3
   },
   "file_extension": ".py",
   "mimetype": "text/x-python",
   "name": "python",
   "nbconvert_exporter": "python",
   "pygments_lexer": "ipython3",
   "version": "3.7.1"
  }
 },
 "nbformat": 4,
 "nbformat_minor": 2
}
